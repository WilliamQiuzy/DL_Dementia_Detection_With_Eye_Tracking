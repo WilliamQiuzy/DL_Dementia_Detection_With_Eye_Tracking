{
 "cells": [
  {
   "cell_type": "code",
   "execution_count": 1,
   "metadata": {},
   "outputs": [],
   "source": [
    "import pandas as pd\n",
    "import numpy as np\n",
    "import matplotlib.pyplot as plt\n",
    "import warnings\n",
    "warnings.filterwarnings('ignore')\n",
    "from tqdm import tqdm\n",
    "import os"
   ]
  },
  {
   "cell_type": "code",
   "execution_count": 2,
   "metadata": {},
   "outputs": [],
   "source": [
    "data_info = pd.read_excel('data_with_mmse1.xlsx', sheet_name='60以上-1706人')\n",
    "#data_info = pd.read_excel('./data/data_encoded_del_0724.xlsx')"
   ]
  },
  {
   "cell_type": "code",
   "execution_count": 3,
   "metadata": {},
   "outputs": [],
   "source": [
    "# data_info = data_info.loc[data_info['del'] != 1]\n",
    "data_info['name'] = data_info['name'].str.replace('[:,.]', '', regex=True)"
   ]
  },
  {
   "cell_type": "code",
   "execution_count": 1,
   "metadata": {},
   "outputs": [
    {
     "name": "stderr",
     "output_type": "stream",
     "text": [
      "100%|██████████| 1456/1456 [00:02<00:00, 654.99it/s]"
     ]
    },
    {
     "name": "stdout",
     "output_type": "stream",
     "text": [
      "File copying completed.\n"
     ]
    },
    {
     "name": "stderr",
     "output_type": "stream",
     "text": [
      "\n"
     ]
    }
   ],
   "source": [
    "import pandas as pd\n",
    "import os\n",
    "import shutil\n",
    "from tqdm import tqdm\n",
    "\n",
    "# Read the Excel file\n",
    "data_info = pd.read_excel('./data/data_with_mmse1.xlsx')\n",
    "\n",
    "# Define the levels list\n",
    "level_list = [i for i in range(2, 12)]\n",
    "\n",
    "# Loop over each row in the DataFrame\n",
    "for id, name in tqdm(data_info[['id', 'name']].values):\n",
    "    for level in level_list:\n",
    "        src_file = f'./data/q_splitted_interpolated/Q{level}/{id}-{name}-{level}-S2.csv'\n",
    "        dest_dir = f'./data/q_splitted_interpolated_del/Q{level}'\n",
    "        dest_file = os.path.join(dest_dir, f'{id}-{name}-{level}-S2.csv')\n",
    "        \n",
    "        # Create the destination directory if it doesn't exist\n",
    "        os.makedirs(dest_dir, exist_ok=True)\n",
    "        \n",
    "        # Copy the file\n",
    "        if os.path.exists(src_file):\n",
    "            shutil.copy(src_file, dest_file)\n",
    "        else:\n",
    "            print(f\"File not found: {src_file}\")\n",
    "\n",
    "print(\"File copying completed.\")"
   ]
  },
  {
   "cell_type": "code",
   "execution_count": 4,
   "metadata": {},
   "outputs": [],
   "source": [
    "# True is patient, False is normal\n",
    "def get_diag(row):\n",
    "    if row[\"文化程度-更新\"] == \"中学及以上\":\n",
    "        return row[\"MMSE得分\"] <= 24\n",
    "    elif row[\"文化程度-更新\"] == \"小学\":\n",
    "        return row[\"MMSE得分\"] <= 20\n",
    "    else:\n",
    "        return row[\"MMSE得分\"] <= 17\n",
    "\n",
    "# data_info[\"MMSE_diag\"] = data_info.apply(get_diag, axis=1)"
   ]
  },
  {
   "cell_type": "code",
   "execution_count": 5,
   "metadata": {},
   "outputs": [],
   "source": [
    "level_list = [i for i in range(2, 12)]\n",
    "for level in level_list:\n",
    "    os.makedirs(f'./data/q_splitted_del/Q{level}/', exist_ok=True)"
   ]
  },
  {
   "cell_type": "markdown",
   "metadata": {},
   "source": [
    "## Question Split"
   ]
  },
  {
   "cell_type": "code",
   "execution_count": 6,
   "metadata": {},
   "outputs": [
    {
     "name": "stderr",
     "output_type": "stream",
     "text": [
      "100%|██████████| 1456/1456 [01:09<00:00, 20.96it/s]\n"
     ]
    }
   ],
   "source": [
    "level_list = [i for i in range(2, 12)]\n",
    "for id, name in tqdm(data_info[['id', 'name']].values):\n",
    "    eye_data = pd.read_csv(f'./data/eye_data/{id}-{name}.txt')\n",
    "    for level in level_list:\n",
    "        level_df = eye_data.loc[(eye_data['level'] == level) & (eye_data['state'] == 2), ['timestamp', 'pos_x', 'pos_y']]\n",
    "        level_df['timestamp'] = level_df['timestamp'] - level_df['timestamp'].min()\n",
    "        level_df.fillna(method='ffill', inplace=True)\n",
    "        level_df.to_csv(f'./data/q_splitted_del/Q{level}/{id}-{name}-{level}-S2.csv')\n",
    "# for id, name in tqdm(ci_info.values):\n",
    "#     eye_data = pd.read_csv(f'./data/eye_data/{id}-{name}.txt')\n",
    "#     for level in level_list:\n",
    "#         level_df = eye_data.loc[(eye_data['level'] == level) & (eye_data['state'] == 2), ['timestamp', 'pos_x', 'pos_y']]\n",
    "#         level_df['timestamp'] = level_df['timestamp'] - level_df['timestamp'].min()\n",
    "#         level_df.to_csv(f'./data/splitted_raw/CI-{id}-{name}-{level}-S2.csv')"
   ]
  },
  {
   "cell_type": "code",
   "execution_count": null,
   "metadata": {},
   "outputs": [],
   "source": [
    "# 异常检测，遍历所有的eye data，如空白大于60%则去除所有的下属数据文件\n",
    "# find /newdata/users/qzy/ET-MMSE/data -type f -name \"id-name*\" -exec rm {} +"
   ]
  },
  {
   "cell_type": "markdown",
   "metadata": {},
   "source": [
    "## Question-wise interpolation"
   ]
  },
  {
   "cell_type": "code",
   "execution_count": 8,
   "metadata": {},
   "outputs": [
    {
     "name": "stderr",
     "output_type": "stream",
     "text": [
      "  0%|          | 0/1456 [00:00<?, ?it/s]\n"
     ]
    },
    {
     "name": "stdout",
     "output_type": "stream",
     "text": [
      "14793-胡长松-2-S2.csv\n"
     ]
    },
    {
     "name": "stderr",
     "output_type": "stream",
     "text": [
      "  0%|          | 0/1456 [00:00<?, ?it/s]\n"
     ]
    },
    {
     "name": "stdout",
     "output_type": "stream",
     "text": [
      "14563-鲍新明-3-S2.csv\n"
     ]
    },
    {
     "name": "stderr",
     "output_type": "stream",
     "text": [
      "  0%|          | 0/1456 [00:00<?, ?it/s]\n"
     ]
    },
    {
     "name": "stdout",
     "output_type": "stream",
     "text": [
      "15845-林健-4-S2.csv\n"
     ]
    },
    {
     "name": "stderr",
     "output_type": "stream",
     "text": [
      "  0%|          | 0/1456 [00:00<?, ?it/s]\n"
     ]
    },
    {
     "name": "stdout",
     "output_type": "stream",
     "text": [
      "14438-周满英-5-S2.csv\n"
     ]
    },
    {
     "name": "stderr",
     "output_type": "stream",
     "text": [
      "  0%|          | 0/1456 [00:00<?, ?it/s]\n"
     ]
    },
    {
     "name": "stdout",
     "output_type": "stream",
     "text": [
      "15282-黄桂清-6-S2.csv\n"
     ]
    },
    {
     "name": "stderr",
     "output_type": "stream",
     "text": [
      "  0%|          | 0/1456 [00:00<?, ?it/s]\n"
     ]
    },
    {
     "name": "stdout",
     "output_type": "stream",
     "text": [
      "16146-李季英-7-S2.csv\n"
     ]
    },
    {
     "name": "stderr",
     "output_type": "stream",
     "text": [
      "  0%|          | 0/1456 [00:00<?, ?it/s]\n"
     ]
    },
    {
     "name": "stdout",
     "output_type": "stream",
     "text": [
      "12533-李东梅-8-S2.csv\n"
     ]
    },
    {
     "name": "stderr",
     "output_type": "stream",
     "text": [
      "  0%|          | 0/1456 [00:00<?, ?it/s]\n"
     ]
    },
    {
     "name": "stdout",
     "output_type": "stream",
     "text": [
      "12370-张朝英-9-S2.csv\n"
     ]
    },
    {
     "name": "stderr",
     "output_type": "stream",
     "text": [
      "  0%|          | 0/1456 [00:00<?, ?it/s]\n"
     ]
    },
    {
     "name": "stdout",
     "output_type": "stream",
     "text": [
      "14723-张同惠-10-S2.csv\n"
     ]
    },
    {
     "name": "stderr",
     "output_type": "stream",
     "text": [
      "  0%|          | 0/1456 [00:00<?, ?it/s]"
     ]
    },
    {
     "name": "stdout",
     "output_type": "stream",
     "text": [
      "15003-严玉英-11-S2.csv\n"
     ]
    },
    {
     "name": "stderr",
     "output_type": "stream",
     "text": [
      "\n"
     ]
    }
   ],
   "source": [
    "level_list = [i for i in range(2, 12)]\n",
    "for level in level_list:\n",
    "    time_span = 11 if level == 2 else 7\n",
    "    try:\n",
    "        for file in tqdm(os.listdir(f'./data/q_splitted_del/Q{level}/')):\n",
    "            data = pd.read_csv(f'./data/q_splitted/Q{level}/' + file)\n",
    "            x = data['pos_x'].values\n",
    "            y = data['pos_y'].values\n",
    "            t = data['timestamp'].values\n",
    "            t_new = np.linspace(0, time_span * 1000, time_span * 70)\n",
    "            x_new = np.interp(t_new, t, x)\n",
    "            y_new = np.interp(t_new, t, y)\n",
    "            interpolated_df = pd.DataFrame([t_new, x_new, y_new]).T\n",
    "            interpolated_df.columns = ['timestamp', 'x', 'y']\n",
    "            interpolated_df.to_csv(f'./data/q_splitted_interpolated_del/Q{level}/{file}')\n",
    "    except Exception as e:\n",
    "        print(file)\n",
    "        pass"
   ]
  },
  {
   "cell_type": "code",
   "execution_count": null,
   "metadata": {},
   "outputs": [],
   "source": [
    "\n",
    "def data(self, sub_info: pd.DataFrame, sub_labels: pd.DataFrame, img_size = (64, 64), img_dir: str = './data/scanpath_images') -> None:\n",
    "    for id, name in sub_info:\n",
    "        for level in range(2, 12):\n",
    "            self.transform_data(\n",
    "                f'{self.img_dir}/Q{level}/{id}_{name}_Q{level}.png',\n",
    "                pd.read_csv(f'./data/q_splitted_interpolated/Q{level}/{id}-{name}-{level}-S2.csv', usecols=['x', 'y']).values\n",
    "            )\n",
    "            \n",
    "        \n",
    "\n",
    "def transform_data(self, img_path, positions):\n",
    "    # Load the image\n",
    "    save_scanpath_image(positions, img_path) # put it to the first line of transform_data\n",
    "\n",
    "def save_scanpath_image(positions, save_path, fig_size=(8, 6), dpi=100):  # Default figure size\n",
    "    os.makedirs(os.path.dirname(save_path), exist_ok=True)  # Create directory if it doesn't exist\n",
    "    plt.figure(figsize=fig_size, dpi=dpi)  # Set the figure size\n",
    "    plt.plot(positions[:, 0], positions[:, 1], 'o-', markersize=1, linewidth=0.5)  # Draw the scanpath\n",
    "    plt.axis('off')  # Turn off the axis\n",
    "    plt.savefig(save_path, bbox_inches='tight', pad_inches=0)  # Save the figure without extra space\n",
    "    plt.close()\n"
   ]
  },
  {
   "cell_type": "code",
   "execution_count": null,
   "metadata": {},
   "outputs": [],
   "source": [
    "data()"
   ]
  }
 ],
 "metadata": {
  "kernelspec": {
   "display_name": "Python 3",
   "language": "python",
   "name": "python3"
  },
  "language_info": {
   "codemirror_mode": {
    "name": "ipython",
    "version": 3
   },
   "file_extension": ".py",
   "mimetype": "text/x-python",
   "name": "python",
   "nbconvert_exporter": "python",
   "pygments_lexer": "ipython3",
   "version": "3.10.11"
  }
 },
 "nbformat": 4,
 "nbformat_minor": 2
}
